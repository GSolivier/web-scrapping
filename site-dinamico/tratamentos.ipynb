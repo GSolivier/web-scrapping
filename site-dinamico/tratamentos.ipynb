{
 "cells": [
  {
   "cell_type": "code",
   "execution_count": 4,
   "metadata": {},
   "outputs": [],
   "source": [
    "import pandas as pd\n",
    "\n",
    "df = pd.read_excel('cadeiras.xlsx')"
   ]
  },
  {
   "cell_type": "code",
   "execution_count": 5,
   "metadata": {},
   "outputs": [
    {
     "name": "stdout",
     "output_type": "stream",
     "text": [
      "                                                titulo     preco\n",
      "0    Cadeira Gamer KBM! GAMING CG200, Preto - Pistã...    599.90\n",
      "1    Cadeira Gamer KBM! GAMING CG200, Preto e Branc...    599.90\n",
      "2    Cadeira Gamer KBM! GAMING Tempest CG600, Preta...    889.90\n",
      "3    Cadeira Gamer KBM! GAMING Tempest CG600, Branc...    889.90\n",
      "4    Cadeira Gamer KBM! GAMING Tempest CG500 Preta ...    839.90\n",
      "..                                                 ...       ...\n",
      "750        Cadeira Gamer Havit GC932, Vermelho E Preto  1.259.91\n",
      "751  Cadeira Gamer Stars, Com Encosto Reclinável, M...    733.94\n",
      "752  Cadeira Gamer Boxbit Raptor, Preta E Cinza, Ba...    673.26\n",
      "753  Cadeira Gamer XT Racer Taycan Escritório Ergon...  1.329.05\n",
      "754  Cadeira Gamer XT Racer Taycan Escritório Ergon...  1.329.05\n",
      "\n",
      "[755 rows x 2 columns]\n"
     ]
    }
   ],
   "source": [
    "df['preco'] = df['preco'].str.replace(',', '.')\n",
    "df['preco'] = df['preco'].str.replace('R$', '')\n",
    "df['preco'] = df['preco'].str.strip()\n",
    "\n",
    "print(df)"
   ]
  },
  {
   "cell_type": "code",
   "execution_count": 6,
   "metadata": {},
   "outputs": [
    {
     "name": "stdout",
     "output_type": "stream",
     "text": [
      "                                                titulo     preco cor_principal\n",
      "0    Cadeira Gamer KBM! GAMING CG200, Preto - Pistã...    599.90         Preto\n",
      "1    Cadeira Gamer KBM! GAMING CG200, Preto e Branc...    599.90        Branco\n",
      "2    Cadeira Gamer KBM! GAMING Tempest CG600, Preta...    889.90         Preto\n",
      "3    Cadeira Gamer KBM! GAMING Tempest CG600, Branc...    889.90        Branco\n",
      "4    Cadeira Gamer KBM! GAMING Tempest CG500 Preta ...    839.90         Preto\n",
      "..                                                 ...       ...           ...\n",
      "750        Cadeira Gamer Havit GC932, Vermelho E Preto  1.259.91         Preto\n",
      "751  Cadeira Gamer Stars, Com Encosto Reclinável, M...    733.94          Azul\n",
      "752  Cadeira Gamer Boxbit Raptor, Preta E Cinza, Ba...    673.26         Cinza\n",
      "753  Cadeira Gamer XT Racer Taycan Escritório Ergon...  1.329.05         Preto\n",
      "754  Cadeira Gamer XT Racer Taycan Escritório Ergon...  1.329.05         Preto\n",
      "\n",
      "[755 rows x 3 columns]\n"
     ]
    }
   ],
   "source": [
    "cores = {\n",
    "    \"preto\", \"preta\", \"branco\", \"branca\", \"vermelho\", \"vermelha\", \"azul\", \"cinza\", \"rosa\", \"roxo\", \"roxa\", \"amarelo\", \"amarela\",\n",
    "    \"laranja\", \"marrom\", \"bege\", \"grafite\", \"uva\", \n",
    "    \"black\", \"off white\", \"red\", \"white\", \"yellow\", \"blue\", \"green\", \"graphite\", \"grey\", \"silver\"\n",
    "}\n",
    "\n",
    "\n",
    "cores_normalizadas = {\n",
    "    'preto': 'Preto',\n",
    "    'preta': 'Preto',\n",
    "    'black': 'Preto',\n",
    "    \n",
    "    'branco': 'Branco',\n",
    "    'branca': 'Branco',\n",
    "    'white': 'Branco',\n",
    "    'off white': 'Branco',\n",
    "    \n",
    "    'vermelho': 'Vermelho',\n",
    "    'vermelha': 'Vermelho',\n",
    "    'red': 'Vermelho',\n",
    "    \n",
    "    'azul': 'Azul',\n",
    "    'blue': 'Azul',\n",
    "    \n",
    "    'cinza': 'Cinza',\n",
    "    'grey': 'Cinza',\n",
    "    'silver': 'Cinza',\n",
    "    \n",
    "    'rosa': 'Rosa',\n",
    "    \n",
    "    'roxo': 'Roxo',\n",
    "    'roxa': 'Roxo',\n",
    "    \n",
    "    'amarelo': 'Amarelo',\n",
    "    'amarela': 'Amarelo',\n",
    "    'yellow': 'Amarelo',\n",
    "    \n",
    "    'laranja': 'Laranja',\n",
    "    \n",
    "    'marrom': 'Marrom',\n",
    "    \n",
    "    'bege': 'Bege',\n",
    "    \n",
    "    'grafite': 'Grafite',\n",
    "    'graphite': 'Grafite',\n",
    "    \n",
    "    'uva': 'Uva',\n",
    "    \n",
    "    'green': 'Verde'\n",
    "}\n",
    "\n",
    "def extrair_cores(texto):\n",
    "    texto = texto.lower()\n",
    "    for cor in cores:\n",
    "        if cor in texto:\n",
    "            return cor\n",
    "    return \"Desconhecida\"\n",
    "\n",
    "df['cor_principal'] = df['titulo'].apply(extrair_cores)\n",
    "\n",
    "df['cor_principal'] = df['cor_principal'].str.lower().replace(cores_normalizadas)\n",
    "\n",
    "print(df)"
   ]
  }
 ],
 "metadata": {
  "kernelspec": {
   "display_name": "Python 3",
   "language": "python",
   "name": "python3"
  },
  "language_info": {
   "codemirror_mode": {
    "name": "ipython",
    "version": 3
   },
   "file_extension": ".py",
   "mimetype": "text/x-python",
   "name": "python",
   "nbconvert_exporter": "python",
   "pygments_lexer": "ipython3",
   "version": "3.12.1"
  }
 },
 "nbformat": 4,
 "nbformat_minor": 2
}
